{
 "cells": [
  {
   "cell_type": "markdown",
   "metadata": {},
   "source": [
    "# Homework 2"
   ]
  },
  {
   "cell_type": "code",
   "execution_count": 57,
   "metadata": {},
   "outputs": [],
   "source": [
    "import numpy as np\n",
    "from scipy.stats import multivariate_normal\n",
    "\n",
    "#import dataset\n",
    "dataset = np.load('dataset.npy')\n",
    "\n",
    "#how many Gaussians are mixed\n",
    "gaussianAmt = 3\n",
    "\n",
    "#dimension of data in dataset\n",
    "dim = len(dataset[0])\n",
    "\n",
    "#treshold for checking numerical errors for randomization and singularity\n",
    "numericalErrorTreshold = 1e-6\n",
    "\n",
    "#addition factor for singular covariance matrix during the M-step\n",
    "#if the new covariance matrix becomes singular, factor*I will be added to it\n",
    "singularityAdditionFactor = 1e-6"
   ]
  },
  {
   "cell_type": "markdown",
   "metadata": {},
   "source": [
    "Necessary libraries are imported. PDF of multivariate normal distribution is calculated with built-in function from scipy library. \n",
    "\n",
    "* gaussianAmt variable keeps how many Gaussian distributions are mixed in the dateset.\n",
    "* dim variable keeps the dimension of the dataset.\n",
    "* numericalErrorTreshold variable keeps the tolerable amount of numerical errors for randomization and singularity. Its use will be detailed in next parts.\n",
    "* singularityAdditionFactor variable keeps the amount of addition factor to the covariance matrix obtained in M-step of the algorithm. Its use is suggested in the link given below because the obtained new covariance matrix may become singular and it cannnot be used in PDF of multivariate normal distriburion. This tiny addition assures the algorithm may continue if ever a non-singular covariance matrix is obtained during the algorithm and I have witnessed its usefulness during my tests.\n",
    "\n",
    "Link: https://www.researchgate.net/post/How_to_fix_co_variance_matrix_going_singular_in_Gaussian_mixture_model_implementation"
   ]
  },
  {
   "cell_type": "code",
   "execution_count": 58,
   "metadata": {},
   "outputs": [],
   "source": [
    "#mean, covariance and mixing coefficient arrays\n",
    "means = []\n",
    "covariances = []\n",
    "coeffs = []\n",
    "\n",
    "#filling the arrays randomly\n",
    "for k in range(gaussianAmt):\n",
    "    means.append(np.random.uniform(-10, 10, dim))\n",
    "    #for covariance matrix, it needs to be positive semi-definite\n",
    "    posSemiDef = False\n",
    "    while posSemiDef == False:\n",
    "        A = np.random.uniform(-10, 10, (dim, dim))\n",
    "        #A^T * A is positive semi-definite\n",
    "        covariances.append(np.matmul(A.T, A))\n",
    "        #check if it is not positive semi-definite due to numerical error\n",
    "        #its eigenvalues must be all positive\n",
    "        posSemiDef = np.all(np.linalg.eigvalsh(covariances[k]) > numericalErrorTreshold)\n",
    "        if posSemiDef == False:\n",
    "            covariances.pop(k)\n",
    "            \n",
    "    coeffs.append(np.random.uniform(-10, 10))\n",
    "\n",
    "#calculating softmax of coeffs in order to make its sum = 1\n",
    "coeffs = np.exp(coeffs) / np.sum(np.exp(coeffs))\n",
    "\n",
    "#log likelihood value calculation\n",
    "logLikelihood = 0\n",
    "for n, data in enumerate(dataset):\n",
    "    sumWeightedProb = 0\n",
    "    for k in range(gaussianAmt):\n",
    "        weightedProb = coeffs[k]*multivariate_normal.pdf(data, means[k], covariances[k])\n",
    "        sumWeightedProb += weightedProb\n",
    "    logLikelihood += np.log(sumWeightedProb)"
   ]
  },
  {
   "cell_type": "markdown",
   "metadata": {},
   "source": [
    "In this step, random initial mean, covariance and mixture coefficients are calculated.\n",
    "\n",
    "* All values are randomized uniformly between -10 and 10.\n",
    "* Covariance matrix needs to be positive semi-definite. Because of that during its random initialization, one needs to be cautious. First of all, a matrix $A$ is randomized. Since $A^T \\times A$ is positive semi-definite, the random covariance matrix is chosen as such. A control is done for its positive semi-definiteness by checking if its all eigenvalues are positive.\n",
    "* The sum of mixture coefficients needs to be equal to 1. In order to ensure that, coeffients are randomized first and then its softmax is calculated. Sum of elements of an array after softmax process is equal to 1. Details of softmax can be seen in the link below:\n",
    "\n",
    "Link: https://en.wikipedia.org/wiki/Softmax_function\n",
    "\n",
    "* In the last step, initial log likelihood for mixture of multivariate normal distributions is calculated. Log likelihood value will be used for convergence control of the algorithm."
   ]
  },
  {
   "cell_type": "code",
   "execution_count": 59,
   "metadata": {},
   "outputs": [
    {
     "name": "stdout",
     "output_type": "stream",
     "text": [
      "Iteration 1: Log likelihood value difference: 553.4759472136986\n",
      "Iteration 2: Log likelihood value difference: 0.17537641866329068\n",
      "Iteration 3: Log likelihood value difference: 0.15718216197319634\n",
      "Iteration 4: Log likelihood value difference: 0.19082009761018526\n",
      "Iteration 5: Log likelihood value difference: 0.23011771130882153\n",
      "Iteration 6: Log likelihood value difference: 0.26703648089505805\n",
      "Iteration 7: Log likelihood value difference: 0.2928775634527483\n",
      "Iteration 8: Log likelihood value difference: 0.29919309640376923\n",
      "Iteration 9: Log likelihood value difference: 0.2832740453693532\n",
      "Iteration 10: Log likelihood value difference: 0.2511115651179807\n",
      "Iteration 11: Log likelihood value difference: 0.21396788389370158\n",
      "Iteration 12: Log likelihood value difference: 0.1819706349367607\n",
      "Iteration 13: Log likelihood value difference: 0.16031353730932096\n",
      "Iteration 14: Log likelihood value difference: 0.14964588202951745\n",
      "Iteration 15: Log likelihood value difference: 0.14945661936030774\n",
      "Iteration 16: Log likelihood value difference: 0.1647630975019183\n",
      "Iteration 17: Log likelihood value difference: 0.22059915214299508\n",
      "Iteration 18: Log likelihood value difference: 0.4440630947729005\n",
      "Iteration 19: Log likelihood value difference: 1.3721426172292013\n",
      "Iteration 20: Log likelihood value difference: 4.194619781448182\n",
      "Iteration 21: Log likelihood value difference: 7.344134186924748\n",
      "Iteration 22: Log likelihood value difference: 7.4011860811140195\n",
      "Iteration 23: Log likelihood value difference: 7.400108144939395\n",
      "Iteration 24: Log likelihood value difference: 10.67182628657065\n",
      "Iteration 25: Log likelihood value difference: 22.162415844291445\n",
      "Iteration 26: Log likelihood value difference: 13.139501834886687\n",
      "Iteration 27: Log likelihood value difference: 8.522800886127243\n",
      "Iteration 28: Log likelihood value difference: 10.60148983327531\n",
      "Iteration 29: Log likelihood value difference: 12.420086209774581\n",
      "Iteration 30: Log likelihood value difference: 12.374015176967987\n",
      "Iteration 31: Log likelihood value difference: 10.995711575782934\n",
      "Iteration 32: Log likelihood value difference: 8.19626332439725\n",
      "Iteration 33: Log likelihood value difference: 4.345962363609033\n",
      "Iteration 34: Log likelihood value difference: 2.420010223842155\n",
      "Iteration 35: Log likelihood value difference: 2.0071219690923954\n",
      "Iteration 36: Log likelihood value difference: 1.8361240562383045\n",
      "Iteration 37: Log likelihood value difference: 1.7627052460259165\n",
      "Iteration 38: Log likelihood value difference: 1.9129630334546164\n",
      "Iteration 39: Log likelihood value difference: 2.5199480747701273\n",
      "Iteration 40: Log likelihood value difference: 3.9889121072960734\n",
      "Iteration 41: Log likelihood value difference: 6.647555976235708\n",
      "Iteration 42: Log likelihood value difference: 9.440711570544408\n",
      "Iteration 43: Log likelihood value difference: 9.868050016847292\n",
      "Iteration 44: Log likelihood value difference: 5.374528103973489\n",
      "Iteration 45: Log likelihood value difference: 0.8909448599999905\n",
      "Iteration 46: Log likelihood value difference: 0.0370723752282629\n",
      "Iteration 47: Log likelihood value difference: 0.0008559731852528785\n",
      "Iteration 48: Log likelihood value difference: 1.882126480268198e-05\n",
      "Iteration 49: Log likelihood value difference: 4.136998086323729e-07\n"
     ]
    }
   ],
   "source": [
    "#treshold for stopping the algorithm\n",
    "convergenceTreshold = 1e-6\n",
    "stopAlgorithm = False\n",
    "#iteration counter\n",
    "nIter = 0\n",
    "\n",
    "while stopAlgorithm == False:\n",
    "    #E-step\n",
    "    mvGaussianProbWithCoeffs = []\n",
    "    condProbZ_nk = []\n",
    "    for n, data in enumerate(dataset):\n",
    "        mvGaussianProbWithCoeffs.append([])\n",
    "        condProbZ_nk.append([])\n",
    "        sumWeightedProb = 0\n",
    "        for k in range(gaussianAmt):\n",
    "            #probability of each data for each mixed Gaussian is calculated and weighted by corresponding mixture\n",
    "            #coefficient\n",
    "            weightedProb = coeffs[k]*multivariate_normal.pdf(data, means[k], covariances[k])\n",
    "            mvGaussianProbWithCoeffs[n].append(weightedProb)\n",
    "            #their sum is calculated\n",
    "            sumWeightedProb += weightedProb\n",
    "        for k in range(gaussianAmt):\n",
    "            #conditional probability of latent variable z is calculated\n",
    "            condProbZ_nk[n].append(mvGaussianProbWithCoeffs[n][k]/sumWeightedProb)\n",
    "    \n",
    "\n",
    "    #M-step\n",
    "    N_k = []\n",
    "    N = len(dataset)\n",
    "    meansNew = []\n",
    "    covariancesNew = []\n",
    "    coeffsNew = []\n",
    "\n",
    "    for k in range(gaussianAmt):\n",
    "        N_k.append(0)\n",
    "        meansNew.append(np.zeros(dim))\n",
    "        covariancesNew.append(np.zeros((dim, dim)))\n",
    "        coeffsNew.append(np.zeros(dim))\n",
    "        \n",
    "        #new means\n",
    "        for n, data in enumerate(dataset):\n",
    "            N_k[k] += condProbZ_nk[n][k]\n",
    "            meansNew[k] += condProbZ_nk[n][k]*data\n",
    "        meansNew[k] /= N_k[k]\n",
    "        \n",
    "        #new covariances\n",
    "        for n, data in enumerate(dataset):\n",
    "            covariancesNew[k] += condProbZ_nk[n][k]*np.matmul((data-meansNew[k]).reshape(dim,1), (data-meansNew[k]).reshape(dim,1).T)\n",
    "        covariancesNew[k] /= N_k[k]  \n",
    "        \n",
    "        #new coeffs\n",
    "        coeffsNew[k] = N_k[k]/N\n",
    "        \n",
    "        means[k] = meansNew[k]\n",
    "        covariances[k] = covariancesNew[k]\n",
    "        #if covariances are singular, i.e the determinant is zero then a tiny addition is done to its diagonal\n",
    "        #to make sure it is not singular so it can be used in PDF of multivariate normal distribution\n",
    "        if (np.linalg.det(covariances[k]) < numericalErrorTreshold):\n",
    "            covariances[k] += singularityAdditionFactor*np.eye(dim)\n",
    "        coeffs[k] = coeffsNew[k]\n",
    "    \n",
    "    #convergence check\n",
    "    logLikelihoodIter = 0\n",
    "    #new log likelihood is calculated\n",
    "    for n, data in enumerate(dataset):\n",
    "        sumWeightedProb = 0\n",
    "        for k in range(gaussianAmt):\n",
    "            weightedProb = coeffs[k]*multivariate_normal.pdf(data, means[k], covariances[k])\n",
    "            sumWeightedProb += weightedProb\n",
    "        logLikelihoodIter += np.log(sumWeightedProb)\n",
    "    \n",
    "    #if difference below the treshold, stop the algorithm\n",
    "    if abs(logLikelihoodIter - logLikelihood) < convergenceTreshold:\n",
    "        stopAlgorithm = True\n",
    "    \n",
    "    nIter += 1\n",
    "    \n",
    "    print('Iteration '+str(nIter)+': Log likelihood value difference: '+str(abs(logLikelihoodIter - logLikelihood)))\n",
    "    \n",
    "    logLikelihood = logLikelihoodIter "
   ]
  },
  {
   "cell_type": "markdown",
   "metadata": {},
   "source": [
    "In this step, algorithm is implemented.\n",
    "\n",
    "* Firstly, convergence treshold is decided. The algorithm works until convergence is obtained.\n",
    "* The algorithm starts with E-step. In this step, conditional probability of latent variable z is calculated. First of all, probabilities of each data for each mixed Gaussian is calculated and weighted with the corresponding mixture coefficient. Their values are stored in mvGaussianProbWithCoeffs array and sum of probabilities of each data is kept in  variable sumWeightedProb of every Gaussian. Then, the conditional probability of z is calculated by division of probability of each data being in a Gaussian and sum of all probabilities of all the Gaussians of that data.\n",
    "* Next step is N-step. In this step, new means, covariances and mixture coefficients are calculated. Firstly, new means are calculated by weighted average of data in dataset with corresponding conditional probability of corresponding latent value z. Then new covariances are calculated. New covariances of data are calculated by using the new means. After calculating the new covariances, the matrix may become singular which is not useful for probability calculation with PDF of multivariate normal distribution. In order to make it useful for the calculation, a very tiny factor is added to its diagonal so the algorithm may continue and it converges. There are other methods for circumventing the singularity problem such as re-initializing the covariance matrix etc. However, this little addition method is also accepted by literature and used in practice. The link is given in the initialization of the little factor. Finally, the new mixture coefficients are calculated by taking the average of conditional probabilities of latent variable z for each mixture.\n",
    "* The arrays are updated by the new ones.\n",
    "* For convergence, log likelihood is re-calculated with the new updated values. If the difference between log likelihood of previous step and current step is below the treshold, the algorithm stops.\n",
    "* In order to see the process and iteration count of the algorithm, iteration count and log likelihood differences are printed. In this example, the algorithm converges in 49 iterations."
   ]
  },
  {
   "cell_type": "code",
   "execution_count": 60,
   "metadata": {},
   "outputs": [
    {
     "name": "stdout",
     "output_type": "stream",
     "text": [
      "Final means: \n",
      "1: [0.70208114 0.66135866]\n",
      "2: [9.60515914 9.16835945]\n",
      "3: [4.3790422  4.35183625]\n",
      "\n",
      "Final covariances: \n",
      "1: [[ 2.11797449 -0.09973663]\n",
      " [-0.09973663  0.64083105]]\n",
      "2: [[ 2.01245136 -0.64166751]\n",
      " [-0.64166751  0.82171149]]\n",
      "3: [[ 2.74790459 -0.11922352]\n",
      " [-0.11922352  0.6180689 ]]\n",
      "\n",
      "Final coefficients: \n",
      "1: 0.333164749246527\n",
      "2: 0.3333333160484921\n",
      "3: 0.33350193470498074\n"
     ]
    }
   ],
   "source": [
    "print(\"Final means: \")\n",
    "for k in range(gaussianAmt):\n",
    "    print(str(k+1)+': '+str(means[k]))\n",
    "    \n",
    "print(\"\\nFinal covariances: \")\n",
    "for k in range(gaussianAmt):\n",
    "    print(str(k+1)+': '+str(covariances[k]))\n",
    "    \n",
    "print(\"\\nFinal coefficients: \")\n",
    "for k in range(gaussianAmt):\n",
    "    print(str(k+1)+': '+str(coeffs[k]))"
   ]
  },
  {
   "cell_type": "markdown",
   "metadata": {},
   "source": [
    "Estimated values can be seen above for this example. However, these values may alter due to random initialization of the means, covariances and mixture coefficients."
   ]
  },
  {
   "cell_type": "code",
   "execution_count": 76,
   "metadata": {},
   "outputs": [
    {
     "data": {
      "image/png": "[encoded data removed]",
      "text/plain": [
       "<Figure size 432x288 with 1 Axes>"
      ]
     },
     "metadata": {
      "needs_background": "light"
     },
     "output_type": "display_data"
    }
   ],
   "source": [
    "import matplotlib.pyplot as plt\n",
    "\n",
    "#decide clusters for data accoring to conditional probability of latent variable z for each data\n",
    "clusters = []\n",
    "for k in range(gaussianAmt):\n",
    "    clusters.append([])\n",
    "\n",
    "for n, data in enumerate(dataset):\n",
    "    prob = 0\n",
    "    cluster = 0\n",
    "    for k in range(gaussianAmt):\n",
    "        probCluster = coeffs[k]*multivariate_normal.pdf(data, means[k], covariances[k])\n",
    "        if probCluster > prob:\n",
    "            prob = probCluster\n",
    "            cluster = k\n",
    "    clusters[cluster].append(n)\n",
    "    \n",
    "colors = ['red', 'blue', 'green', 'gray', 'yellow', 'cyan', 'magenta']\n",
    "\n",
    "#plot data according to their clusters decided\n",
    "for k in range(gaussianAmt):\n",
    "    for n in clusters[k]:\n",
    "        plt.scatter(dataset[n][0], dataset[n][1], c=colors[k])\n"
   ]
  },
  {
   "cell_type": "markdown",
   "metadata": {},
   "source": [
    "Above the data is clustered and plotted in different colors regarding the clusters. Clustering is done by comparing the conditional probability of latent value z of each data. According to the plot above, it seems that EM algorithm provides an accurate assumption for parameters and mixture coefficients of mixture of distributions for the data."
   ]
  }
 ],
 "metadata": {
  "kernelspec": {
   "display_name": "Python 3",
   "language": "python",
   "name": "python3"
  },
  "language_info": {
   "codemirror_mode": {
    "name": "ipython",
    "version": 3
   },
   "file_extension": ".py",
   "mimetype": "text/x-python",
   "name": "python",
   "nbconvert_exporter": "python",
   "pygments_lexer": "ipython3",
   "version": "3.7.9"
  }
 },
 "nbformat": 4,
 "nbformat_minor": 4
}
