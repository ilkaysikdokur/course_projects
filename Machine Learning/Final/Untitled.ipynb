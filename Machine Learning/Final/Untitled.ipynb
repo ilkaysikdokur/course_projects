{
 "cells": [
  {
   "cell_type": "markdown",
   "metadata": {},
   "source": [
    "SORU 1"
   ]
  },
  {
   "cell_type": "code",
   "execution_count": 1,
   "metadata": {},
   "outputs": [],
   "source": [
    "import numpy as np\n",
    "\n",
    "train_data = np.load(\"train_data1.npy\")\n",
    "train_label = np.load(\"train_label1.npy\")\n",
    "test_data = np.load(\"test_data1.npy\")\n",
    "test_label = np.load(\"test_label1.npy\")"
   ]
  },
  {
   "cell_type": "code",
   "execution_count": 2,
   "metadata": {},
   "outputs": [
    {
     "name": "stdout",
     "output_type": "stream",
     "text": [
      "(1600, 50)\n",
      "(1600,)\n",
      "(400, 50)\n",
      "(400,)\n"
     ]
    }
   ],
   "source": [
    "print(train_data.shape)\n",
    "print(train_label.shape)\n",
    "print(test_data.shape)\n",
    "print(test_label.shape)"
   ]
  },
  {
   "cell_type": "code",
   "execution_count": 82,
   "metadata": {},
   "outputs": [
    {
     "name": "stdout",
     "output_type": "stream",
     "text": [
      "9.88853173028207\n"
     ]
    }
   ],
   "source": [
    "train_data_feature_arr = np.transpose(train_data)\n",
    "corr = np.corrcoef(train_data_feature_arr)\n",
    "\n",
    "sumCorr = (np.sum(abs(corr))-len(corr))/len(corr)\n",
    "print(sumCorr)"
   ]
  },
  {
   "cell_type": "code",
   "execution_count": 4,
   "metadata": {},
   "outputs": [],
   "source": [
    "import numpy as np\n",
    "from sklearn import svm\n",
    "\n",
    "clf = svm.SVC(gamma=0.001, C=100.)\n",
    "clf.fit(train_data, train_label)\n",
    "y_pred = clf.predict(test_data)\n",
    "correct_prediction = np.equal(y_pred, test_label)\n",
    "accuracy = np.mean(correct_prediction.astype(np.float32))"
   ]
  },
  {
   "cell_type": "code",
   "execution_count": 41,
   "metadata": {},
   "outputs": [
    {
     "name": "stdout",
     "output_type": "stream",
     "text": [
      "0.59\n"
     ]
    }
   ],
   "source": [
    "print(accuracy)"
   ]
  },
  {
   "cell_type": "code",
   "execution_count": 42,
   "metadata": {},
   "outputs": [],
   "source": [
    "train_pred = clf.predict(train_data)\n",
    "train_pred_compare = np.equal(train_pred, train_label)\n",
    "train_accuracy = np.mean(train_pred_compare.astype(np.float32))"
   ]
  },
  {
   "cell_type": "code",
   "execution_count": 43,
   "metadata": {},
   "outputs": [
    {
     "name": "stdout",
     "output_type": "stream",
     "text": [
      "1.0\n"
     ]
    }
   ],
   "source": [
    "print(train_accuracy)"
   ]
  },
  {
   "cell_type": "code",
   "execution_count": 8,
   "metadata": {},
   "outputs": [
    {
     "name": "stdout",
     "output_type": "stream",
     "text": [
      "PCA with 1 components: test accuracy: 0.7925000190734863, training accuracy: 0.7962499856948853\n",
      "PCA with 2 components: test accuracy: 0.7774999737739563, training accuracy: 0.8525000214576721\n",
      "PCA with 3 components: test accuracy: 0.7599999904632568, training accuracy: 0.9624999761581421\n",
      "PCA with 4 components: test accuracy: 0.7549999952316284, training accuracy: 0.9981250166893005\n",
      "PCA with 5 components: test accuracy: 0.7174999713897705, training accuracy: 1.0\n",
      "PCA with 6 components: test accuracy: 0.6850000023841858, training accuracy: 1.0\n",
      "PCA with 7 components: test accuracy: 0.675000011920929, training accuracy: 1.0\n",
      "PCA with 8 components: test accuracy: 0.6549999713897705, training accuracy: 1.0\n",
      "PCA with 9 components: test accuracy: 0.5874999761581421, training accuracy: 1.0\n",
      "PCA with 10 components: test accuracy: 0.5849999785423279, training accuracy: 1.0\n",
      "PCA with 11 components: test accuracy: 0.6399999856948853, training accuracy: 1.0\n",
      "PCA with 12 components: test accuracy: 0.6399999856948853, training accuracy: 1.0\n",
      "PCA with 13 components: test accuracy: 0.6324999928474426, training accuracy: 1.0\n",
      "PCA with 14 components: test accuracy: 0.6349999904632568, training accuracy: 1.0\n",
      "PCA with 15 components: test accuracy: 0.6349999904632568, training accuracy: 1.0\n",
      "PCA with 16 components: test accuracy: 0.6324999928474426, training accuracy: 1.0\n",
      "PCA with 17 components: test accuracy: 0.6274999976158142, training accuracy: 1.0\n",
      "PCA with 18 components: test accuracy: 0.6324999928474426, training accuracy: 1.0\n",
      "PCA with 19 components: test accuracy: 0.6274999976158142, training accuracy: 1.0\n",
      "PCA with 20 components: test accuracy: 0.6299999952316284, training accuracy: 1.0\n",
      "PCA with 21 components: test accuracy: 0.625, training accuracy: 1.0\n",
      "PCA with 22 components: test accuracy: 0.625, training accuracy: 1.0\n",
      "PCA with 23 components: test accuracy: 0.625, training accuracy: 1.0\n",
      "PCA with 24 components: test accuracy: 0.6299999952316284, training accuracy: 1.0\n",
      "PCA with 25 components: test accuracy: 0.625, training accuracy: 1.0\n",
      "PCA with 26 components: test accuracy: 0.6225000023841858, training accuracy: 1.0\n",
      "PCA with 27 components: test accuracy: 0.6225000023841858, training accuracy: 1.0\n",
      "PCA with 28 components: test accuracy: 0.6175000071525574, training accuracy: 1.0\n",
      "PCA with 29 components: test accuracy: 0.6150000095367432, training accuracy: 1.0\n",
      "PCA with 30 components: test accuracy: 0.6175000071525574, training accuracy: 1.0\n",
      "PCA with 31 components: test accuracy: 0.6150000095367432, training accuracy: 1.0\n",
      "PCA with 32 components: test accuracy: 0.6150000095367432, training accuracy: 1.0\n",
      "PCA with 33 components: test accuracy: 0.6150000095367432, training accuracy: 1.0\n",
      "PCA with 34 components: test accuracy: 0.6150000095367432, training accuracy: 1.0\n",
      "PCA with 35 components: test accuracy: 0.6150000095367432, training accuracy: 1.0\n",
      "PCA with 36 components: test accuracy: 0.6100000143051147, training accuracy: 1.0\n",
      "PCA with 37 components: test accuracy: 0.6075000166893005, training accuracy: 1.0\n",
      "PCA with 38 components: test accuracy: 0.6050000190734863, training accuracy: 1.0\n",
      "PCA with 39 components: test accuracy: 0.6025000214576721, training accuracy: 1.0\n",
      "PCA with 40 components: test accuracy: 0.6000000238418579, training accuracy: 1.0\n",
      "PCA with 41 components: test accuracy: 0.5975000262260437, training accuracy: 1.0\n",
      "PCA with 42 components: test accuracy: 0.5950000286102295, training accuracy: 1.0\n",
      "PCA with 43 components: test accuracy: 0.5950000286102295, training accuracy: 1.0\n",
      "PCA with 44 components: test accuracy: 0.5950000286102295, training accuracy: 1.0\n",
      "PCA with 45 components: test accuracy: 0.5924999713897705, training accuracy: 1.0\n",
      "PCA with 46 components: test accuracy: 0.5924999713897705, training accuracy: 1.0\n",
      "PCA with 47 components: test accuracy: 0.5924999713897705, training accuracy: 1.0\n",
      "PCA with 48 components: test accuracy: 0.5924999713897705, training accuracy: 1.0\n",
      "PCA with 49 components: test accuracy: 0.5924999713897705, training accuracy: 1.0\n",
      "PCA with 50 components: test accuracy: 0.5899999737739563, training accuracy: 1.0\n"
     ]
    }
   ],
   "source": [
    "from sklearn.decomposition import PCA\n",
    "\n",
    "for n in range(1, len(train_data[0])+1):\n",
    "    pca = PCA(n_components=n)\n",
    "    pca.fit(train_data)\n",
    "    train_data_pca = pca.transform(train_data)\n",
    "    test_data_pca = pca.transform(test_data)\n",
    "\n",
    "    clf.fit(train_data_pca, train_label)\n",
    "    y_pred = clf.predict(test_data_pca)\n",
    "    correct_prediction = np.equal(y_pred, test_label)\n",
    "    accuracy = np.mean(correct_prediction.astype(np.float32))\n",
    "\n",
    "    train_pred = clf.predict(train_data_pca)\n",
    "    train_pred_compare = np.equal(train_pred, train_label)\n",
    "    train_accuracy = np.mean(train_pred_compare.astype(np.float32))\n",
    "    \n",
    "    print(\"PCA with {0} components: test accuracy: {1}, training accuracy: {2}\".format(n, accuracy, train_accuracy))"
   ]
  },
  {
   "cell_type": "code",
   "execution_count": 9,
   "metadata": {},
   "outputs": [
    {
     "name": "stdout",
     "output_type": "stream",
     "text": [
      "PCA with whitening 1 components: test accuracy: 0.7975000143051147, training accuracy: 0.7918750047683716\n",
      "PCA with whitening 2 components: test accuracy: 0.8174999952316284, training accuracy: 0.8174999952316284\n",
      "PCA with whitening 3 components: test accuracy: 0.8174999952316284, training accuracy: 0.8237500190734863\n",
      "PCA with whitening 4 components: test accuracy: 0.8199999928474426, training accuracy: 0.8262500166893005\n",
      "PCA with whitening 5 components: test accuracy: 0.8174999952316284, training accuracy: 0.8262500166893005\n",
      "PCA with whitening 6 components: test accuracy: 0.8224999904632568, training accuracy: 0.8418750166893005\n",
      "PCA with whitening 7 components: test accuracy: 0.8324999809265137, training accuracy: 0.84375\n",
      "PCA with whitening 8 components: test accuracy: 0.8224999904632568, training accuracy: 0.8462499976158142\n",
      "PCA with whitening 9 components: test accuracy: 0.8174999952316284, training accuracy: 0.8443750143051147\n",
      "PCA with whitening 10 components: test accuracy: 0.8199999928474426, training accuracy: 0.8418750166893005\n",
      "PCA with whitening 11 components: test accuracy: 1.0, training accuracy: 1.0\n",
      "PCA with whitening 12 components: test accuracy: 1.0, training accuracy: 1.0\n",
      "PCA with whitening 13 components: test accuracy: 1.0, training accuracy: 1.0\n",
      "PCA with whitening 14 components: test accuracy: 1.0, training accuracy: 1.0\n",
      "PCA with whitening 15 components: test accuracy: 1.0, training accuracy: 1.0\n",
      "PCA with whitening 16 components: test accuracy: 1.0, training accuracy: 1.0\n",
      "PCA with whitening 17 components: test accuracy: 1.0, training accuracy: 1.0\n",
      "PCA with whitening 18 components: test accuracy: 1.0, training accuracy: 1.0\n",
      "PCA with whitening 19 components: test accuracy: 1.0, training accuracy: 1.0\n",
      "PCA with whitening 20 components: test accuracy: 1.0, training accuracy: 1.0\n",
      "PCA with whitening 21 components: test accuracy: 1.0, training accuracy: 1.0\n",
      "PCA with whitening 22 components: test accuracy: 1.0, training accuracy: 1.0\n",
      "PCA with whitening 23 components: test accuracy: 1.0, training accuracy: 1.0\n",
      "PCA with whitening 24 components: test accuracy: 1.0, training accuracy: 1.0\n",
      "PCA with whitening 25 components: test accuracy: 1.0, training accuracy: 1.0\n",
      "PCA with whitening 26 components: test accuracy: 1.0, training accuracy: 1.0\n",
      "PCA with whitening 27 components: test accuracy: 1.0, training accuracy: 1.0\n",
      "PCA with whitening 28 components: test accuracy: 1.0, training accuracy: 1.0\n",
      "PCA with whitening 29 components: test accuracy: 1.0, training accuracy: 1.0\n",
      "PCA with whitening 30 components: test accuracy: 1.0, training accuracy: 1.0\n",
      "PCA with whitening 31 components: test accuracy: 1.0, training accuracy: 1.0\n",
      "PCA with whitening 32 components: test accuracy: 1.0, training accuracy: 1.0\n",
      "PCA with whitening 33 components: test accuracy: 1.0, training accuracy: 1.0\n",
      "PCA with whitening 34 components: test accuracy: 1.0, training accuracy: 1.0\n",
      "PCA with whitening 35 components: test accuracy: 1.0, training accuracy: 1.0\n",
      "PCA with whitening 36 components: test accuracy: 1.0, training accuracy: 1.0\n",
      "PCA with whitening 37 components: test accuracy: 1.0, training accuracy: 1.0\n",
      "PCA with whitening 38 components: test accuracy: 1.0, training accuracy: 1.0\n",
      "PCA with whitening 39 components: test accuracy: 1.0, training accuracy: 1.0\n",
      "PCA with whitening 40 components: test accuracy: 1.0, training accuracy: 1.0\n",
      "PCA with whitening 41 components: test accuracy: 1.0, training accuracy: 1.0\n",
      "PCA with whitening 42 components: test accuracy: 1.0, training accuracy: 1.0\n",
      "PCA with whitening 43 components: test accuracy: 1.0, training accuracy: 1.0\n",
      "PCA with whitening 44 components: test accuracy: 1.0, training accuracy: 1.0\n",
      "PCA with whitening 45 components: test accuracy: 1.0, training accuracy: 1.0\n",
      "PCA with whitening 46 components: test accuracy: 1.0, training accuracy: 1.0\n",
      "PCA with whitening 47 components: test accuracy: 1.0, training accuracy: 1.0\n",
      "PCA with whitening 48 components: test accuracy: 1.0, training accuracy: 1.0\n",
      "PCA with whitening 49 components: test accuracy: 1.0, training accuracy: 1.0\n",
      "PCA with whitening 50 components: test accuracy: 1.0, training accuracy: 1.0\n"
     ]
    }
   ],
   "source": [
    "for n in range(1, len(train_data[0])+1):\n",
    "    pca = PCA(n_components=n, whiten=True)\n",
    "    pca.fit(train_data)\n",
    "    train_data_pca = pca.transform(train_data)\n",
    "    test_data_pca = pca.transform(test_data)\n",
    "\n",
    "    clf.fit(train_data_pca, train_label)\n",
    "    y_pred = clf.predict(test_data_pca)\n",
    "    correct_prediction = np.equal(y_pred, test_label)\n",
    "    accuracy = np.mean(correct_prediction.astype(np.float32))\n",
    "\n",
    "    train_pred = clf.predict(train_data_pca)\n",
    "    train_pred_compare = np.equal(train_pred, train_label)\n",
    "    train_accuracy = np.mean(train_pred_compare.astype(np.float32))\n",
    "    \n",
    "    print(\"PCA with whitening {0} components: test accuracy: {1}, training accuracy: {2}\".format(n, accuracy, train_accuracy))"
   ]
  },
  {
   "cell_type": "code",
   "execution_count": 62,
   "metadata": {},
   "outputs": [
    {
     "name": "stdout",
     "output_type": "stream",
     "text": [
      "PCA with 50 components: training accuracy: 1.0, test accuracy: 1.0\n",
      "50\n"
     ]
    }
   ],
   "source": [
    "pca = PCA(whiten=True)\n",
    "pca.fit(train_data)\n",
    "train_data_pca = pca.transform(train_data)\n",
    "test_data_pca = pca.transform(test_data)\n",
    "\n",
    "clf.fit(train_data_pca, train_label)\n",
    "y_pred = clf.predict(test_data_pca)\n",
    "correct_prediction = np.equal(y_pred, test_label)\n",
    "accuracy = np.mean(correct_prediction.astype(np.float32))\n",
    "\n",
    "train_pred = clf.predict(train_data_pca)\n",
    "train_pred_compare = np.equal(train_pred, train_label)\n",
    "train_accuracy = np.mean(train_pred_compare.astype(np.float32))\n",
    "\n",
    "print(\"PCA with {0} components: training accuracy: {1}, test accuracy: {2}\".format(n, accuracy, train_accuracy))\n",
    "print(pca.n_components_)"
   ]
  },
  {
   "cell_type": "code",
   "execution_count": 10,
   "metadata": {},
   "outputs": [
    {
     "name": "stdout",
     "output_type": "stream",
     "text": [
      "3.3253400033572687e-14\n"
     ]
    }
   ],
   "source": [
    "corr = np.corrcoef(np.transpose(train_data_pca))\n",
    "\n",
    "sumCorr = (np.sum(abs(corr))-len(corr))/len(corr)\n",
    "print(sumCorr)"
   ]
  },
  {
   "cell_type": "markdown",
   "metadata": {},
   "source": [
    "# SORU 2"
   ]
  },
  {
   "cell_type": "code",
   "execution_count": 11,
   "metadata": {},
   "outputs": [],
   "source": [
    "import matplotlib.pyplot as plt\n",
    "\n",
    "\n",
    "data2 = np.load(\"data2.npy\")\n",
    "\n",
    "data2_transpose = np.transpose(data2)"
   ]
  },
  {
   "cell_type": "code",
   "execution_count": 89,
   "metadata": {},
   "outputs": [
    {
     "name": "stdout",
     "output_type": "stream",
     "text": [
      "(1000, 2)\n"
     ]
    }
   ],
   "source": [
    "print(data2.shape)"
   ]
  },
  {
   "cell_type": "code",
   "execution_count": 94,
   "metadata": {},
   "outputs": [
    {
     "data": {
      "image/png": "[encoded data removed]",
      "text/plain": [
       "<Figure size 432x288 with 1 Axes>"
      ]
     },
     "metadata": {
      "needs_background": "light"
     },
     "output_type": "display_data"
    }
   ],
   "source": [
    "plt.plot(data2_transpose[0], data2_transpose[1], 'o')\n",
    "plt.show()"
   ]
  },
  {
   "cell_type": "code",
   "execution_count": 23,
   "metadata": {},
   "outputs": [
    {
     "data": {
      "image/png": "[encoded data removed]",
      "text/plain": [
       "<Figure size 432x288 with 1 Axes>"
      ]
     },
     "metadata": {
      "needs_background": "light"
     },
     "output_type": "display_data"
    }
   ],
   "source": [
    "from sklearn.cluster import KMeans\n",
    "\n",
    "kmeans = KMeans(n_clusters=2).fit(data2)\n",
    "labels = kmeans.labels_\n",
    "\n",
    "colors = [\"red\", \"blue\", \"green\", \"black\", \"yellow\", \"brown\", \"gray\"]\n",
    "\n",
    "for i, d in enumerate(data2):\n",
    "    plt.plot(d[0], d[1], 'o', color=colors[labels[i]])\n",
    "plt.show()"
   ]
  },
  {
   "cell_type": "code",
   "execution_count": 24,
   "metadata": {},
   "outputs": [
    {
     "name": "stdout",
     "output_type": "stream",
     "text": [
      "1.0\n"
     ]
    }
   ],
   "source": [
    "data2_training = data2[:(int)(len(data2)*8/10)]\n",
    "data2_training_labels = labels[:(int)(len(labels)*8/10)]\n",
    "data2_test = data2[(int)(len(data2)*8/10):]\n",
    "data2_test_labels = labels[(int)(len(data2)*8/10):]\n",
    "\n",
    "clf = svm.SVC(gamma=0.001, C=100.)\n",
    "clf.fit(data2_training, data2_training_labels)\n",
    "y_pred = clf.predict(data2_test)\n",
    "correct_prediction = np.equal(y_pred, data2_test_labels)\n",
    "accuracy = np.mean(correct_prediction.astype(np.float32))\n",
    "\n",
    "print(accuracy)"
   ]
  },
  {
   "cell_type": "code",
   "execution_count": 25,
   "metadata": {},
   "outputs": [
    {
     "data": {
      "image/png": "[encoded data removed]",
      "text/plain": [
       "<Figure size 432x288 with 1 Axes>"
      ]
     },
     "metadata": {
      "needs_background": "light"
     },
     "output_type": "display_data"
    }
   ],
   "source": [
    "kmeans = KMeans(n_clusters=3).fit(data2)\n",
    "labels = kmeans.labels_\n",
    "\n",
    "colors = [\"red\", \"blue\", \"green\", \"black\", \"yellow\", \"brown\", \"gray\"]\n",
    "\n",
    "for i, d in enumerate(data2):\n",
    "    plt.plot(d[0], d[1], 'o', color=colors[labels[i]])\n",
    "plt.show()"
   ]
  },
  {
   "cell_type": "code",
   "execution_count": 26,
   "metadata": {},
   "outputs": [
    {
     "name": "stdout",
     "output_type": "stream",
     "text": [
      "0.995\n"
     ]
    }
   ],
   "source": [
    "data2_training = data2[:(int)(len(data2)*8/10)]\n",
    "data2_training_labels = labels[:(int)(len(labels)*8/10)]\n",
    "data2_test = data2[(int)(len(data2)*8/10):]\n",
    "data2_test_labels = labels[(int)(len(data2)*8/10):]\n",
    "\n",
    "clf = svm.SVC(gamma=0.001, C=100.)\n",
    "clf.fit(data2_training, data2_training_labels)\n",
    "y_pred = clf.predict(data2_test)\n",
    "correct_prediction = np.equal(y_pred, data2_test_labels)\n",
    "accuracy = np.mean(correct_prediction.astype(np.float32))\n",
    "\n",
    "print(accuracy)"
   ]
  },
  {
   "cell_type": "code",
   "execution_count": 27,
   "metadata": {},
   "outputs": [
    {
     "data": {
      "image/png": "[encoded data removed]",
      "text/plain": [
       "<Figure size 432x288 with 1 Axes>"
      ]
     },
     "metadata": {
      "needs_background": "light"
     },
     "output_type": "display_data"
    }
   ],
   "source": [
    "kmeans = KMeans(n_clusters=4).fit(data2)\n",
    "labels = kmeans.labels_\n",
    "\n",
    "colors = [\"red\", \"blue\", \"green\", \"black\", \"yellow\", \"brown\", \"gray\"]\n",
    "\n",
    "for i, d in enumerate(data2):\n",
    "    plt.plot(d[0], d[1], 'o', color=colors[labels[i]])\n",
    "plt.show()"
   ]
  },
  {
   "cell_type": "code",
   "execution_count": 28,
   "metadata": {},
   "outputs": [
    {
     "name": "stdout",
     "output_type": "stream",
     "text": [
      "0.995\n"
     ]
    }
   ],
   "source": [
    "data2_training = data2[:(int)(len(data2)*8/10)]\n",
    "data2_training_labels = labels[:(int)(len(labels)*8/10)]\n",
    "data2_test = data2[(int)(len(data2)*8/10):]\n",
    "data2_test_labels = labels[(int)(len(data2)*8/10):]\n",
    "\n",
    "clf = svm.SVC(gamma=0.001, C=100.)\n",
    "clf.fit(data2_training, data2_training_labels)\n",
    "y_pred = clf.predict(data2_test)\n",
    "correct_prediction = np.equal(y_pred, data2_test_labels)\n",
    "accuracy = np.mean(correct_prediction.astype(np.float32))\n",
    "\n",
    "print(accuracy)"
   ]
  },
  {
   "cell_type": "code",
   "execution_count": null,
   "metadata": {},
   "outputs": [],
   "source": []
  }
 ],
 "metadata": {
  "kernelspec": {
   "display_name": "Python 3",
   "language": "python",
   "name": "python3"
  },
  "language_info": {
   "codemirror_mode": {
    "name": "ipython",
    "version": 3
   },
   "file_extension": ".py",
   "mimetype": "text/x-python",
   "name": "python",
   "nbconvert_exporter": "python",
   "pygments_lexer": "ipython3",
   "version": "3.7.7"
  }
 },
 "nbformat": 4,
 "nbformat_minor": 4
}
