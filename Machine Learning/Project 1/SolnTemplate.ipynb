{
 "cells": [
  {
   "cell_type": "markdown",
   "metadata": {},
   "source": [
    "<h1><center>CMPE 462 - Project 1<br>Binary Classification with Logistic Regression<br>Due: April 23, 2020, 23:59</center></h1>"
   ]
  },
  {
   "cell_type": "markdown",
   "metadata": {},
   "source": [
    "* **Student ID1:**\n",
    "* **Student ID2:**\n",
    "* **Student ID3:**"
   ]
  },
  {
   "cell_type": "markdown",
   "metadata": {},
   "source": [
    "# Overview\n",
    "\n",
    "In this project, you are going to implement logistic regression from scratch. You are provided\n",
    "a subset of the famous handwritten digit dataset called MNIST. In the subset, you will find images of digit 1 and 5. Therefore, you will be solving a binary classification problem. The project includes feature extraction, model training, and evaluation steps.\n",
    "\n",
    "First, you will load and visualize the data portion we have provided to you and then extract two different set of features to build a classifier on. When you extracted the desired features, you will run your logistic regression implementation with gradient descent on the representations to classify digits into 1 and 5. You will experiment with different learning rates  and regularization parameter ($\\lambda$) and find the optimal $\\lambda$ with 5-fold cross validation. Finally, you will evaluate the implemented models, decide which is the best performing one and visualize a decision boundary.\n",
    "\n",
    "Follow the steps on this notebook that would guide you through the solution step-by-step. Make sure that the notebook reports your work properly and add comments and opinions when necessary."
   ]
  },
  {
   "cell_type": "markdown",
   "metadata": {},
   "source": [
    "**IMPORTANT NOTE:** You are allowed to use third-party libraries such as `numpy` and `matplotlib` to help you implement necessary procedures. However, you should not import any function that accomplishes the task itself. For instance, you can use `numpy` arrays for matrix operations, but you cannot use `scikit-learn` to implement cross validation."
   ]
  },
  {
   "cell_type": "markdown",
   "metadata": {},
   "source": [
    "## Task 1: Feature Extraction (35 Pts)"
   ]
  },
  {
   "cell_type": "markdown",
   "metadata": {},
   "source": [
    "Load the training/test data and labels as numpy arrays (Hint:`np.load`). Train and test data are 1561x256 and 424x256 dimensional matrices, respectively. Each row in the\n",
    "aforementioned matrices corresponds to an image of a digit. The 256 pixels correspond to a 16x16 image. Label 1 is assigned to digit 1 and label -1 is assigned to digit 5."
   ]
  },
  {
   "cell_type": "code",
   "execution_count": 3,
   "metadata": {},
   "outputs": [],
   "source": [
    "import numpy as np\n",
    "\n",
    "train_data = np.load('train_data.npy')\n",
    "train_labels = np.load('train_labels.npy')\n",
    "test_data = np.load('test_data.npy')\n",
    "test_labels = np.load('test_labels.npy')"
   ]
  },
  {
   "cell_type": "markdown",
   "metadata": {},
   "source": [
    "**(5 points)** Display two of the digit images, one for digit 1 and one for digit 5. You can use `imshow` function of `matplotlib` library with a suitable colormap. You will first need to reshape 256 pixels to a 16x16 matrix. "
   ]
  },
  {
   "cell_type": "code",
   "execution_count": 35,
   "metadata": {},
   "outputs": [
    {
     "data": {
      "image/png": "[encoded data removed]",
      "text/plain": [
       "<Figure size 432x288 with 2 Axes>"
      ]
     },
     "metadata": {
      "needs_background": "light"
     },
     "output_type": "display_data"
    }
   ],
   "source": [
    "import matplotlib.pyplot as plt\n",
    "\n",
    "printed1 = False\n",
    "printed5 = False\n",
    "f, axarr = plt.subplots(1,2)\n",
    "for imgIndex in range(len(train_data)):\n",
    "    if train_labels[imgIndex] == 1 and printed1 == False:\n",
    "        imgReshaped = np.reshape(train_data[imgIndex], (16, 16))\n",
    "        axarr[0].imshow(imgReshaped, cmap='gray')\n",
    "        printed1 = True\n",
    "    if train_labels[imgIndex] == -1 and printed5 == False:\n",
    "        imgReshaped = np.reshape(train_data[imgIndex], (16, 16))\n",
    "        axarr[1].imshow(imgReshaped, cmap='gray')\n",
    "        printed5 = True\n",
    "    if printed1 and printed5:\n",
    "        break\n"
   ]
  },
  {
   "cell_type": "markdown",
   "metadata": {},
   "source": [
    "**(10 points) Implementing Representation 1:** Extract the **symmetry** and **average intensity** features discussed in the class (see logistic regression lecture notes). To compute the intensity features, compute the average pixel value of the image, and for the symmetry feature, compute the negative of the norm of the difference between the image and its y-axis symmetrical. Search numpy's documentation to find the suitable function at each step. You should extract these two features for each image in the training and test sets. As a result, you should obtain a training data matrix of size 1561x2 and test data matrix of size 424x2.\n",
    "\n",
    "Throughout the notebook, we will refer the representation with these two features as **Representation 1** "
   ]
  },
  {
   "cell_type": "code",
   "execution_count": 37,
   "metadata": {},
   "outputs": [],
   "source": [
    "representation1_training = []\n",
    "representation1_test = []\n",
    "\n",
    "for img in train_data:\n",
    "    representation1_arr = []\n",
    "    sumPixel = 0\n",
    "    for pixel in img:\n",
    "        sumPixel += pixel\n",
    "    avgPixel = sumPixel / len(img)\n",
    "    representation1_arr.append(avgPixel)\n",
    "    \n",
    "    \n",
    "    yFlippedImage = np.reshape(np.flipud(np.reshape(img, (16,16))), (1, 16*16))\n",
    "    normDiference = np.linalg.norm(img-yFlippedImage)\n",
    "    representation1_arr.append(-1*normDiference)\n",
    "    \n",
    "    representation1_training.append(representation1_arr)\n",
    "    \n",
    "for img in test_data:\n",
    "    representation1_arr = []\n",
    "    sumPixel = 0\n",
    "    for pixel in img:\n",
    "        sumPixel += pixel\n",
    "    avgPixel = sumPixel / len(img)\n",
    "    representation1_arr.append(avgPixel)\n",
    "    \n",
    "    \n",
    "    yFlippedImage = np.reshape(np.flipud(np.reshape(img, (16,16))), (1, 16*16))\n",
    "    normDiference = np.linalg.norm(img-yFlippedImage)\n",
    "    representation1_arr.append(-1*normDiference)\n",
    "    \n",
    "    representation1_test.append(representation1_arr)\n",
    "    "
   ]
  },
  {
   "cell_type": "markdown",
   "metadata": {},
   "source": [
    "**(5 points)** Provide two scatter plots, one for training and one for test data. The plots should contain the average intensity values in the x-axis and symmetry values in the\n",
    "y-axis. Denote the data points of label 1 with blue marker shaped <font color='blue'>o</font> and the data points of label -1 with a red marker shaped <font color='red'>x</font>. (Hint: check out `plt.scatter` and its `marker` and `color` parameters). Explicitly state the axis labels and figure title for both plots (Hint: `plt.xlabel`, `plt.ylabel`, `plt.title`). "
   ]
  },
  {
   "cell_type": "code",
   "execution_count": 38,
   "metadata": {},
   "outputs": [
    {
     "data": {
      "image/png": "[encoded data removed]",
      "text/plain": [
       "<Figure size 432x288 with 2 Axes>"
      ]
     },
     "metadata": {
      "needs_background": "light"
     },
     "output_type": "display_data"
    }
   ],
   "source": [
    "f, axarr = plt.subplots(1,2)\n",
    "\n",
    "for imgIndex in range(len(train_labels)):\n",
    "    label = train_labels[imgIndex]\n",
    "    axarr[0].scatter(representation1_training[imgIndex][0], representation1_training[imgIndex][1], \n",
    "                     marker='o' if label==1 else 'x',\n",
    "                    color='blue' if label==1 else 'red')\n",
    "    \n",
    "for imgIndex in range(len(test_labels)):\n",
    "    label = test_labels[imgIndex]\n",
    "    axarr[1].scatter(representation1_test[imgIndex][0], representation1_test[imgIndex][1], \n",
    "                     marker='o' if label==1 else 'x',\n",
    "                    color='blue' if label==1 else 'red')"
   ]
  },
  {
   "cell_type": "markdown",
   "metadata": {},
   "source": [
    "**(15 points) Implementing Representation 2:** Come up with an alternative feature extraction approach. The features can again be 2-D, or higher dimensional. If you use any external resource, please cite the references. Explain the feature extraction procedure clearly in your report; if it is an algorithm, provide the algorithm; if it is a function, provide the mathematical expressions. \n",
    "\n",
    "If your proposed features are 2-D or 3-D, provide the scatter plots similar to the previous step.\n",
    "\n",
    "We will refer this representation proposed by you as **Representation 2**."
   ]
  },
  {
   "cell_type": "code",
   "execution_count": 269,
   "metadata": {},
   "outputs": [
    {
     "data": {
      "image/png": "[encoded data removed]",
      "text/plain": [
       "<Figure size 432x288 with 2 Axes>"
      ]
     },
     "metadata": {
      "needs_background": "light"
     },
     "output_type": "display_data"
    }
   ],
   "source": [
    "representation2_training = []\n",
    "representation2_test = []\n",
    "\n",
    "for img in train_data:\n",
    "    representation2_arr = []\n",
    "    \n",
    "    #xFlippedImage = np.reshape(np.rot90(np.fliplr(np.reshape(img, (16,16)))), (1, 16*16))\n",
    "    #normDiference = np.linalg.norm(img-xFlippedImage)\n",
    "    #representation2_arr.append(-1*normDiference)\n",
    "    \n",
    "    \n",
    "    imageMatrix = np.reshape(img, (16,16))\n",
    "    \n",
    "    count = 0\n",
    "    totDiff = 0\n",
    "    left=15\n",
    "    right=0\n",
    "    for i in range(16):\n",
    "        for j in range(16):\n",
    "            if imageMatrix[i][j] != -1 and j<left:\n",
    "                left = j\n",
    "                break\n",
    "        for j in range(15,-1, -1):\n",
    "            if imageMatrix[i][j] != -1 and j>right:\n",
    "                right = j\n",
    "                break\n",
    "        if (i+1)%4 == 0:\n",
    "            count += 1\n",
    "            if right > left:\n",
    "                totDiff += (right - left)\n",
    "            left=15\n",
    "            right=0\n",
    "    representation2_arr.append(totDiff/count)\n",
    "    \n",
    "    #yFlippedImage = np.reshape(np.flipud(np.reshape(img, (16,16))), (1, 16*16))\n",
    "    #normDiference = np.linalg.norm(img-yFlippedImage)\n",
    "    #representation2_arr.append(-1*normDiference)\n",
    "    \n",
    "    totDash = 0\n",
    "    count = 0\n",
    "    for j in range(16):\n",
    "        contains0 = False\n",
    "        maxPix = -1\n",
    "        for i in range(16):\n",
    "            if imageMatrix[i][j] > -0.0005:\n",
    "                contains0 = True\n",
    "            if imageMatrix[i][j] > maxPix:\n",
    "                maxPix = imageMatrix[i][j]\n",
    "        if contains0 == False or maxPix < -0.9995:\n",
    "            continue\n",
    "        for i in range(15):\n",
    "            if (imageMatrix[i][j] == -1 and imageMatrix[i+1][j] != -1) or (imageMatrix[i][j] != -1 and imageMatrix[i+1][j] == -1):\n",
    "                totDash += 1\n",
    "        count += 1\n",
    "    representation2_arr.append(totDash/count)\n",
    "\n",
    "    representation2_training.append(representation2_arr)\n",
    "    \n",
    "for img in test_data:\n",
    "    representation2_arr = []\n",
    "\n",
    "    imageMatrix = np.reshape(img, (16,16))\n",
    "    \n",
    "    count = 0\n",
    "    totDiff = 0\n",
    "    left=15\n",
    "    right=0\n",
    "    for i in range(16):\n",
    "        for j in range(16):\n",
    "            if imageMatrix[i][j] != -1 and j<left:\n",
    "                left = j\n",
    "                break\n",
    "        for j in range(15,-1, -1):\n",
    "            if imageMatrix[i][j] != -1 and j>right:\n",
    "                right = j\n",
    "                break\n",
    "        if (i+1)%4 == 0:\n",
    "            count += 1\n",
    "            if right > left:\n",
    "                totDiff += (right - left)\n",
    "            left=15\n",
    "            right=0\n",
    "    representation2_arr.append(totDiff/count)\n",
    "    \n",
    "    #yFlippedImage = np.reshape(np.flipud(np.reshape(img, (16,16))), (1, 16*16))\n",
    "    #normDiference = np.linalg.norm(img-yFlippedImage)\n",
    "    #representation2_arr.append(-1*normDiference)\n",
    "    \n",
    "    totDash = 0\n",
    "    count = 0\n",
    "    for j in range(16):\n",
    "        contains0 = False\n",
    "        maxPix = -1\n",
    "        for i in range(16):\n",
    "            if imageMatrix[i][j] > -0.05:\n",
    "                contains0 = True\n",
    "            if imageMatrix[i][j] > maxPix:\n",
    "                maxPix = imageMatrix[i][j]\n",
    "        if contains0 == False or maxPix < -0.1:\n",
    "            continue\n",
    "        for i in range(15):\n",
    "            if (imageMatrix[i][j] == -1 and imageMatrix[i+1][j] != -1) or (imageMatrix[i][j] != -1 and imageMatrix[i+1][j] == -1):\n",
    "                totDash += 1\n",
    "        count += 1\n",
    "    representation2_arr.append(totDash/count)\n",
    "\n",
    "    \n",
    "    representation2_test.append(representation2_arr)\n",
    "    \n",
    "    \n",
    "    \n",
    "    \n",
    "f, axarr = plt.subplots(1,2)\n",
    "#f, axarr = plt.subplots(2,2)\n",
    "for imgIndex in range(len(train_labels)):\n",
    "    label = train_labels[imgIndex]\n",
    "    axarr[0].scatter(representation2_training[imgIndex][0], representation2_training[imgIndex][1], \n",
    "                     marker='o' if label==1 else 'x',\n",
    "                    color='blue' if label==1 else 'red')\n",
    "    #if representation2_training[imgIndex][0] < 5 and representation2_training[imgIndex][1] < 2.01 and train_labels[imgIndex] != 1:\n",
    "    #    imgReshaped = np.reshape(train_data[imgIndex], (16, 16))\n",
    "    #    axarr[1][0].imshow(imgReshaped, cmap='gray')\n",
    "    \n",
    "    \n",
    "for imgIndex in range(len(test_labels)):\n",
    "    label = test_labels[imgIndex]\n",
    "    axarr[1].scatter(representation2_test[imgIndex][0], representation2_test[imgIndex][1], \n",
    "                     marker='o' if label==1 else 'x',\n",
    "                    color='blue' if label==1 else 'red')\n",
    "    #if representation2_test[imgIndex][1] == 3 and test_labels[imgIndex] == 1:\n",
    "    #    imgReshaped = np.reshape(test_data[imgIndex], (16, 16))\n",
    "    #    axarr[1][1].imshow(imgReshaped, cmap='gray')\n",
    "    \n"
   ]
  },
  {
   "cell_type": "markdown",
   "metadata": {},
   "source": [
    "## Task 2: Logistic Regression (40 Pts)"
   ]
  },
  {
   "cell_type": "markdown",
   "metadata": {},
   "source": [
    "**(20 points)** Implement the logistic regression classifier from scratch with gradient descent and train it using Representation 1 and Representation 2 as inputs. Concatenate\n",
    "1 to your features for the intercept term, such that one data point will look like for 2-D features [1,$x_1$,$x_2$], and the model vector will be [$w_0, w_1, w_2$], where $w_0$ is the intercept parameter. \n",
    "You can refer to lecture notes (Logistic regression slides 29-30) to review the gradient descent learning algorithm and the logistic loss. To implement the gradient of the logistic loss with respect to $w$, first derive its expression by hand. Please include your derivation in your report.\n",
    "\n",
    "To prove that your implementation is converging, keep the loss values at each gradient descent iteration in a numpy array. After the training is finalized, plot the loss values\n",
    "with respect to iteration count (Hint: `plt.plot`). You should observe a decreasing loss as the number of iterations increases. Also, experiment with 5 different learning rates between 0 and 1, and plot the convergence curves for each learning rate in the same plot to observe the effect of the learning rate (step size) on the convergence. \n",
    "\n",
    "To decide when to terminate the gradient descent iterations, check the absolute difference between the current loss value and the loss value of the previous step. If the difference is less than a small number, such as $10^{-5}$, you can exit the loop."
   ]
  },
  {
   "cell_type": "code",
   "execution_count": 339,
   "metadata": {},
   "outputs": [],
   "source": [
    "def learn(tra_data, tra_labels, eta, lambda_reg):\n",
    "    w = np.random.uniform(-5, 5, size=3)\n",
    "    loss = 1\n",
    "    difference = 1\n",
    "    lossVector = []\n",
    "    iteration = 0\n",
    "    N = len(tra_data)\n",
    "    while difference>0.00001:\n",
    "        iteration += 1\n",
    "        delCost = np.array([0 for k in range(3)], np.double)\n",
    "        loss_new = 0\n",
    "        for (i, x) in enumerate(tra_data):\n",
    "            y = tra_labels[i]\n",
    "            x = np.insert(x, 0, 1)\n",
    "            dot = np.dot(w,x)\n",
    "            exp = np.exp(-1*y*dot)\n",
    "            delCost += (-1*y*exp*x/(1 + exp) + 2*lambda_reg*w)\n",
    "            loss_new += (np.log(1 + exp) + lambda_reg*np.linalg.norm(w)**2)\n",
    "        delCost /= N\n",
    "        loss_new /= N\n",
    "        w_new = w - eta*delCost\n",
    "        difference = np.abs(loss - loss_new)\n",
    "        print(difference)\n",
    "        lossVector.append(loss_new)\n",
    "        w = w_new\n",
    "        loss = loss_new\n",
    "    plt.plot(lossVector)\n",
    "    print('Iteration: ',iteration)\n",
    "    return w"
   ]
  },
  {
   "cell_type": "code",
   "execution_count": 343,
   "metadata": {},
   "outputs": [
    {
     "name": "stdout",
     "output_type": "stream",
     "text": [
      "3.885578033895647\n",
      "0.8721348645874549\n",
      "0.8672685740114336\n",
      "0.8452340824178206\n",
      "0.7286221263128589\n",
      "0.3003759631766123\n",
      "0.01649106269815115\n",
      "0.011019226359102685\n",
      "0.010832659781272458\n",
      "0.010755858224571924\n",
      "0.010681181883007929\n",
      "0.010604971797490759\n",
      "0.010527080353548213\n",
      "0.010447483253358536\n",
      "0.010366162966491288\n",
      "0.010283103769425539\n",
      "0.010198291785193492\n",
      "0.010111715105309393\n",
      "0.010023363947044839\n",
      "0.009933230808153226\n",
      "0.009841310624466137\n",
      "0.00974760092772331\n",
      "0.009652102003443686\n",
      "0.009554817047505049\n",
      "0.009455752320475685\n",
      "0.00935491729850857\n",
      "0.00925232481970184\n",
      "0.009147991224424112\n",
      "0.00904193648843532\n",
      "0.008934184347431762\n",
      "0.008824762411280052\n",
      "0.00871370226699164\n",
      "0.00860103956844116\n",
      "0.00848681411174479\n",
      "0.008371069894656635\n",
      "0.008253855158669832\n",
      "0.008135222412456122\n",
      "0.008015228435341304\n",
      "0.007893934259844082\n",
      "0.007771405131886344\n",
      "0.007647710448290046\n",
      "0.007522923670344905\n",
      "0.007397122213288254\n",
      "0.007270387311156479\n",
      "0.007142803856957314\n",
      "0.007014460218413121\n",
      "0.006885448029353425\n",
      "0.006755861957741582\n",
      "0.00662579945091446\n",
      "0.0064953604593447345\n",
      "0.0063646471402705185\n",
      "0.006233763542863313\n",
      "0.006102815276631146\n",
      "0.0059719091655098255\n",
      "0.005841152889507484\n",
      "0.005710654616626343\n",
      "0.005580522627705808\n",
      "0.00545086493657132\n",
      "0.005321788908775993\n",
      "0.005193400881354893\n",
      "0.005065805786683031\n",
      "0.004939106783264813\n",
      "0.004813404896118367\n",
      "0.0046887986695076656\n",
      "0.004565383834628345\n",
      "0.004443252994437374\n",
      "0.004322495328076048\n",
      "0.004203196316625135\n",
      "0.004085437492055921\n",
      "0.003969296210839968\n",
      "0.003854845453391431\n",
      "0.0037421536502775243\n",
      "0.0036312845358794643\n",
      "0.0035222970298101064\n",
      "0.003415245146168089\n",
      "0.003310177930586522\n",
      "0.00320713942436901\n",
      "0.0031061686552755763\n",
      "0.003007299653942308\n",
      "0.0029105614948211622\n",
      "0.0028159783603638466\n",
      "0.002723569627079314\n",
      "0.00263334997177167\n",
      "0.00254532949637698\n",
      "0.0024595138696623664\n",
      "0.0023759044838819188\n",
      "0.0022944986247125376\n",
      "0.0022152896524573196\n",
      "0.0021382671928383834\n",
      "0.0020634173355634777\n",
      "0.001990722838783432\n",
      "0.0019201633380230287\n",
      "0.0018517155577688627\n",
      "0.0017853535242634555\n",
      "0.0017210487782793882\n",
      "0.0016587705862105562\n",
      "0.0015984861487019497\n",
      "0.001540160805412305\n",
      "0.0014837582351316936\n",
      "0.001429240650368313\n",
      "0.00137656898557581\n",
      "0.0013257030785545076\n",
      "0.0012766018443280958\n",
      "0.0012292234412482062\n",
      "0.0011835254287981822\n",
      "0.001139464917077393\n",
      "0.001096998707605823\n",
      "0.0010560834255014528\n",
      "0.001016675642960596\n",
      "0.0009787319941078065\n",
      "0.0009422092812941818\n",
      "0.0009070645730449023\n",
      "0.0008732552937790183\n",
      "0.0008407393056465429\n",
      "0.0008094749825604541\n",
      "0.00077942127697328\n",
      "0.0007505377794374546\n",
      "0.000722784771426288\n",
      "0.000696123271775817\n",
      "0.0006705150769266144\n",
      "0.0006459227955198932\n",
      "0.0006223098775222091\n",
      "0.0005996406383140807\n",
      "0.0005778802780574965\n",
      "0.0005569948966921423\n",
      "0.0005369515048618823\n",
      "0.0005177180310953489\n",
      "0.0004992633255784806\n",
      "0.0004815571607226232\n",
      "0.00046457022896673195\n",
      "0.00044827413789827464\n",
      "0.00043264140310972365\n",
      "0.00041764543887212735\n",
      "0.00040326054706674164\n",
      "0.0003894619043258718\n",
      "0.0003762255478448884\n",
      "0.0003635283598246719\n",
      "0.00035134805091474597\n",
      "0.00033966314265587716\n",
      "0.0003284529492056931\n",
      "0.0003176975583708552\n",
      "0.0003073778121640558\n",
      "0.00029747528697576797\n",
      "0.0002879722734121515\n",
      "0.00027885175597430756\n",
      "0.0002700973926197392\n",
      "0.0002616934943396876\n",
      "0.0002536250047182609\n",
      "0.0002458774796443297\n",
      "0.00023843706718129631\n",
      "0.0002312904876839994\n",
      "0.00022442501410646631\n",
      "0.0002178284526801466\n",
      "0.00021148912390511754\n",
      "0.00020539584391143784\n",
      "0.00019953790616922262\n",
      "0.00019390506365357663\n",
      "0.00018848751144073805\n",
      "0.00018327586968680531\n",
      "0.00017826116711028295\n",
      "0.0001734348249154971\n",
      "0.00016878864114411307\n",
      "0.00016431477557055096\n",
      "0.0001600057349651074\n",
      "0.00015585435889464705\n",
      "0.00015185380597415588\n",
      "0.00014799754053340664\n",
      "0.00014427931979033026\n",
      "0.00014069318145415455\n",
      "0.0001372334317356616\n",
      "0.0001338946338824698\n",
      "0.00013067159699420294\n",
      "0.0001275593654036511\n",
      "0.00012455320836068928\n",
      "0.00012164861016139561\n",
      "0.00011884126062333689\n",
      "0.00011612704600427737\n",
      "0.00011350204021043364\n",
      "0.00011096249636943778\n",
      "0.00010850483881952311\n",
      "0.00010612565535039753\n",
      "0.00010382168977729478\n",
      "0.00010158983485175632\n",
      "9.942712550103927e-05\n",
      "9.733073224638122e-05\n",
      "9.52979550303823e-05\n",
      "9.332621723667778e-05\n",
      "9.14130599710683e-05\n",
      "8.955613665095896e-05\n",
      "8.775320774556672e-05\n",
      "8.600213583387362e-05\n",
      "8.430088081756715e-05\n",
      "8.264749540987104e-05\n",
      "8.104012073162359e-05\n",
      "7.947698224608502e-05\n",
      "7.795638574215058e-05\n",
      "7.647671356825203e-05\n",
      "7.503642107320463e-05\n",
      "7.363403308435768e-05\n",
      "7.226814070449006e-05\n",
      "7.093739816232958e-05\n",
      "6.964051980573593e-05\n"
     ]
    },
    {
     "ename": "KeyboardInterrupt",
     "evalue": "",
     "output_type": "error",
     "traceback": [
      "\u001b[1;31m---------------------------------------------------------------------------\u001b[0m",
      "\u001b[1;31mKeyboardInterrupt\u001b[0m                         Traceback (most recent call last)",
      "\u001b[1;32m<ipython-input-343-443ae2903fd1>\u001b[0m in \u001b[0;36m<module>\u001b[1;34m\u001b[0m\n\u001b[1;32m----> 1\u001b[1;33m \u001b[0mw\u001b[0m \u001b[1;33m=\u001b[0m \u001b[0mlearn\u001b[0m\u001b[1;33m(\u001b[0m\u001b[0mrepresentation2_training\u001b[0m\u001b[1;33m,\u001b[0m \u001b[0mtrain_labels\u001b[0m\u001b[1;33m,\u001b[0m \u001b[1;36m0.2\u001b[0m\u001b[1;33m,\u001b[0m \u001b[1;36m0\u001b[0m\u001b[1;33m)\u001b[0m\u001b[1;33m\u001b[0m\u001b[1;33m\u001b[0m\u001b[0m\n\u001b[0m",
      "\u001b[1;32m<ipython-input-339-f8270592bff0>\u001b[0m in \u001b[0;36mlearn\u001b[1;34m(tra_data, tra_labels, eta, lambda_reg)\u001b[0m\n\u001b[0;32m     12\u001b[0m         \u001b[1;32mfor\u001b[0m \u001b[1;33m(\u001b[0m\u001b[0mi\u001b[0m\u001b[1;33m,\u001b[0m \u001b[0mx\u001b[0m\u001b[1;33m)\u001b[0m \u001b[1;32min\u001b[0m \u001b[0menumerate\u001b[0m\u001b[1;33m(\u001b[0m\u001b[0mtra_data\u001b[0m\u001b[1;33m)\u001b[0m\u001b[1;33m:\u001b[0m\u001b[1;33m\u001b[0m\u001b[1;33m\u001b[0m\u001b[0m\n\u001b[0;32m     13\u001b[0m             \u001b[0my\u001b[0m \u001b[1;33m=\u001b[0m \u001b[0mtra_labels\u001b[0m\u001b[1;33m[\u001b[0m\u001b[0mi\u001b[0m\u001b[1;33m]\u001b[0m\u001b[1;33m\u001b[0m\u001b[1;33m\u001b[0m\u001b[0m\n\u001b[1;32m---> 14\u001b[1;33m             \u001b[0mx\u001b[0m \u001b[1;33m=\u001b[0m \u001b[0mnp\u001b[0m\u001b[1;33m.\u001b[0m\u001b[0minsert\u001b[0m\u001b[1;33m(\u001b[0m\u001b[0mx\u001b[0m\u001b[1;33m,\u001b[0m \u001b[1;36m0\u001b[0m\u001b[1;33m,\u001b[0m \u001b[1;36m1\u001b[0m\u001b[1;33m)\u001b[0m\u001b[1;33m\u001b[0m\u001b[1;33m\u001b[0m\u001b[0m\n\u001b[0m\u001b[0;32m     15\u001b[0m             \u001b[0mdot\u001b[0m \u001b[1;33m=\u001b[0m \u001b[0mnp\u001b[0m\u001b[1;33m.\u001b[0m\u001b[0mdot\u001b[0m\u001b[1;33m(\u001b[0m\u001b[0mw\u001b[0m\u001b[1;33m,\u001b[0m\u001b[0mx\u001b[0m\u001b[1;33m)\u001b[0m\u001b[1;33m\u001b[0m\u001b[1;33m\u001b[0m\u001b[0m\n\u001b[0;32m     16\u001b[0m             \u001b[0mexp\u001b[0m \u001b[1;33m=\u001b[0m \u001b[0mnp\u001b[0m\u001b[1;33m.\u001b[0m\u001b[0mexp\u001b[0m\u001b[1;33m(\u001b[0m\u001b[1;33m-\u001b[0m\u001b[1;36m1\u001b[0m\u001b[1;33m*\u001b[0m\u001b[0my\u001b[0m\u001b[1;33m*\u001b[0m\u001b[0mdot\u001b[0m\u001b[1;33m)\u001b[0m\u001b[1;33m\u001b[0m\u001b[1;33m\u001b[0m\u001b[0m\n",
      "\u001b[1;32m<__array_function__ internals>\u001b[0m in \u001b[0;36minsert\u001b[1;34m(*args, **kwargs)\u001b[0m\n",
      "\u001b[1;32m~\\Anaconda3\\lib\\site-packages\\numpy\\lib\\function_base.py\u001b[0m in \u001b[0;36minsert\u001b[1;34m(arr, obj, values, axis)\u001b[0m\n\u001b[0;32m   4591\u001b[0m         \u001b[0mnew\u001b[0m \u001b[1;33m=\u001b[0m \u001b[0mempty\u001b[0m\u001b[1;33m(\u001b[0m\u001b[0mnewshape\u001b[0m\u001b[1;33m,\u001b[0m \u001b[0marr\u001b[0m\u001b[1;33m.\u001b[0m\u001b[0mdtype\u001b[0m\u001b[1;33m,\u001b[0m \u001b[0marrorder\u001b[0m\u001b[1;33m)\u001b[0m\u001b[1;33m\u001b[0m\u001b[1;33m\u001b[0m\u001b[0m\n\u001b[0;32m   4592\u001b[0m         \u001b[0mslobj\u001b[0m\u001b[1;33m[\u001b[0m\u001b[0maxis\u001b[0m\u001b[1;33m]\u001b[0m \u001b[1;33m=\u001b[0m \u001b[0mslice\u001b[0m\u001b[1;33m(\u001b[0m\u001b[1;32mNone\u001b[0m\u001b[1;33m,\u001b[0m \u001b[0mindex\u001b[0m\u001b[1;33m)\u001b[0m\u001b[1;33m\u001b[0m\u001b[1;33m\u001b[0m\u001b[0m\n\u001b[1;32m-> 4593\u001b[1;33m         \u001b[0mnew\u001b[0m\u001b[1;33m[\u001b[0m\u001b[0mtuple\u001b[0m\u001b[1;33m(\u001b[0m\u001b[0mslobj\u001b[0m\u001b[1;33m)\u001b[0m\u001b[1;33m]\u001b[0m \u001b[1;33m=\u001b[0m \u001b[0marr\u001b[0m\u001b[1;33m[\u001b[0m\u001b[0mtuple\u001b[0m\u001b[1;33m(\u001b[0m\u001b[0mslobj\u001b[0m\u001b[1;33m)\u001b[0m\u001b[1;33m]\u001b[0m\u001b[1;33m\u001b[0m\u001b[1;33m\u001b[0m\u001b[0m\n\u001b[0m\u001b[0;32m   4594\u001b[0m         \u001b[0mslobj\u001b[0m\u001b[1;33m[\u001b[0m\u001b[0maxis\u001b[0m\u001b[1;33m]\u001b[0m \u001b[1;33m=\u001b[0m \u001b[0mslice\u001b[0m\u001b[1;33m(\u001b[0m\u001b[0mindex\u001b[0m\u001b[1;33m,\u001b[0m \u001b[0mindex\u001b[0m\u001b[1;33m+\u001b[0m\u001b[0mnumnew\u001b[0m\u001b[1;33m)\u001b[0m\u001b[1;33m\u001b[0m\u001b[1;33m\u001b[0m\u001b[0m\n\u001b[0;32m   4595\u001b[0m         \u001b[0mnew\u001b[0m\u001b[1;33m[\u001b[0m\u001b[0mtuple\u001b[0m\u001b[1;33m(\u001b[0m\u001b[0mslobj\u001b[0m\u001b[1;33m)\u001b[0m\u001b[1;33m]\u001b[0m \u001b[1;33m=\u001b[0m \u001b[0mvalues\u001b[0m\u001b[1;33m\u001b[0m\u001b[1;33m\u001b[0m\u001b[0m\n",
      "\u001b[1;31mKeyboardInterrupt\u001b[0m: "
     ]
    }
   ],
   "source": [
    "w = learn(representation2_training, train_labels, 0.2, 0)"
   ]
  },
  {
   "cell_type": "code",
   "execution_count": 297,
   "metadata": {},
   "outputs": [
    {
     "name": "stdout",
     "output_type": "stream",
     "text": [
      "Iteration:  520\n"
     ]
    },
    {
     "data": {
      "image/png": "[encoded data removed]",
      "text/plain": [
       "<Figure size 432x288 with 1 Axes>"
      ]
     },
     "metadata": {
      "needs_background": "light"
     },
     "output_type": "display_data"
    }
   ],
   "source": [
    "eta = 0.7\n",
    "w = np.random.randint(-5000, 5000, size=3)/1000\n",
    "loss = 10\n",
    "difference = 10\n",
    "lossVector = []\n",
    "iteration = 0\n",
    "while difference>0.00001:\n",
    "    iteration += 1\n",
    "    delCost = np.array([0 for k in range(3)], np.double)\n",
    "    loss_new = 0\n",
    "    for (i, x) in enumerate(representation1_training):\n",
    "        y = train_labels[i]\n",
    "        x = np.insert(x, 0, 1)\n",
    "        delCost += (-1*y*np.exp(-1*y*np.dot(w,x))*x/(1+np.exp(-1*y*np.dot(w,x))))/len(representation1_training)\n",
    "        loss_new += (np.log(1 + np.exp(-1*y*np.dot(w,x))))/len(representation1_training)\n",
    "    w_new = w - eta*delCost\n",
    "    difference = np.abs(loss - loss_new)\n",
    "    #print(difference)\n",
    "    lossVector.append(loss_new)\n",
    "    w = w_new\n",
    "    loss = loss_new\n",
    "plt.plot(lossVector)\n",
    "print('Iteration: ',iteration)"
   ]
  },
  {
   "cell_type": "code",
   "execution_count": 279,
   "metadata": {},
   "outputs": [
    {
     "name": "stdout",
     "output_type": "stream",
     "text": [
      "Iteration:  1039\n"
     ]
    },
    {
     "data": {
      "image/png": "[encoded data removed]",
      "text/plain": [
       "<Figure size 432x288 with 1 Axes>"
      ]
     },
     "metadata": {
      "needs_background": "light"
     },
     "output_type": "display_data"
    }
   ],
   "source": [
    "eta = 0.5\n",
    "w = np.random.randint(-5000, 5000, size=3)/1000\n",
    "loss = 10\n",
    "difference = 10\n",
    "lossVector = []\n",
    "iteration = 0\n",
    "while difference>0.00001:\n",
    "    iteration += 1\n",
    "    delCost = np.array([0 for k in range(3)], np.double)\n",
    "    loss_new = 0\n",
    "    for (i, x) in enumerate(representation2_training):\n",
    "        y = train_labels[i]\n",
    "        x = np.insert(x, 0, 1)\n",
    "        delCost += (-1*y*np.exp(-1*y*np.dot(w,x))*x/(1+np.exp(-1*y*np.dot(w,x))))/len(representation2_training)\n",
    "        loss_new += (np.log(1 + np.exp(-1*y*np.dot(w,x))))/len(representation2_training)\n",
    "    w_new = w - eta*delCost\n",
    "    difference = np.abs(loss - loss_new)\n",
    "    #print(difference)\n",
    "    lossVector.append(loss_new)\n",
    "    w = w_new\n",
    "    loss = loss_new\n",
    "plt.plot(lossVector)\n",
    "print('Iteration: ',iteration)"
   ]
  },
  {
   "cell_type": "code",
   "execution_count": 280,
   "metadata": {},
   "outputs": [
    {
     "name": "stdout",
     "output_type": "stream",
     "text": [
      "Iteration:  1208\n"
     ]
    },
    {
     "data": {
      "image/png": "[encoded data removed]",
      "text/plain": [
       "<Figure size 432x288 with 1 Axes>"
      ]
     },
     "metadata": {
      "needs_background": "light"
     },
     "output_type": "display_data"
    }
   ],
   "source": [
    "eta = 0.3\n",
    "w = np.random.randint(-5000, 5000, size=3)/1000\n",
    "loss = 10\n",
    "difference = 10\n",
    "lossVector = []\n",
    "iteration = 0\n",
    "while difference>0.00001:\n",
    "    iteration += 1\n",
    "    delCost = np.array([0 for k in range(3)], np.double)\n",
    "    loss_new = 0\n",
    "    for (i, x) in enumerate(representation2_training):\n",
    "        y = train_labels[i]\n",
    "        x = np.insert(x, 0, 1)\n",
    "        delCost += (-1*y*np.exp(-1*y*np.dot(w,x))*x/(1+np.exp(-1*y*np.dot(w,x))))/len(representation2_training)\n",
    "        loss_new += (np.log(1 + np.exp(-1*y*np.dot(w,x))))/len(representation2_training)\n",
    "    w_new = w - eta*delCost\n",
    "    difference = np.abs(loss - loss_new)\n",
    "    #print(difference)\n",
    "    lossVector.append(loss_new)\n",
    "    w = w_new\n",
    "    loss = loss_new\n",
    "plt.plot(lossVector)\n",
    "print('Iteration: ',iteration)"
   ]
  },
  {
   "cell_type": "code",
   "execution_count": 281,
   "metadata": {},
   "outputs": [
    {
     "name": "stdout",
     "output_type": "stream",
     "text": [
      "Iteration:  2132\n"
     ]
    },
    {
     "data": {
      "image/png": "[encoded data removed]",
      "text/plain": [
       "<Figure size 432x288 with 1 Axes>"
      ]
     },
     "metadata": {
      "needs_background": "light"
     },
     "output_type": "display_data"
    }
   ],
   "source": [
    "eta = 0.1\n",
    "w = np.random.randint(-5000, 5000, size=3)/1000\n",
    "loss = 10\n",
    "difference = 10\n",
    "lossVector = []\n",
    "iteration = 0\n",
    "while difference>0.00001:\n",
    "    iteration += 1\n",
    "    delCost = np.array([0 for k in range(3)], np.double)\n",
    "    loss_new = 0\n",
    "    for (i, x) in enumerate(representation2_training):\n",
    "        y = train_labels[i]\n",
    "        x = np.insert(x, 0, 1)\n",
    "        delCost += (-1*y*np.exp(-1*y*np.dot(w,x))*x/(1+np.exp(-1*y*np.dot(w,x))))/len(representation2_training)\n",
    "        loss_new += (np.log(1 + np.exp(-1*y*np.dot(w,x))))/len(representation2_training)\n",
    "    w_new = w - eta*delCost\n",
    "    difference = np.abs(loss - loss_new)\n",
    "    #print(difference)\n",
    "    lossVector.append(loss_new)\n",
    "    w = w_new\n",
    "    loss = loss_new\n",
    "plt.plot(lossVector)\n",
    "print('Iteration: ',iteration)"
   ]
  },
  {
   "cell_type": "markdown",
   "metadata": {},
   "source": [
    "**(10 points)** Implement logistic regression with $\\ell_2$ norm regularization, $||\\mathbf{w}||_{2}^{2}$ . Show that your implementation is working by visualizing the loss over the iterations again. Visualization for a single learning rate and $\\lambda$ suffices. "
   ]
  },
  {
   "cell_type": "code",
   "execution_count": 293,
   "metadata": {},
   "outputs": [
    {
     "name": "stdout",
     "output_type": "stream",
     "text": [
      "Iteration:  92\n"
     ]
    },
    {
     "data": {
      "image/png": "[encoded data removed]",
      "text/plain": [
       "<Figure size 432x288 with 1 Axes>"
      ]
     },
     "metadata": {
      "needs_background": "light"
     },
     "output_type": "display_data"
    }
   ],
   "source": [
    "eta = 0.5\n",
    "lambda_reg = 0.01\n",
    "w = np.random.randint(-5000, 5000, size=3)/1000\n",
    "loss = 10\n",
    "difference = 10\n",
    "lossVector = []\n",
    "iteration = 0\n",
    "while difference>0.00001:\n",
    "    iteration += 1\n",
    "    delCost = np.array([0 for k in range(3)], np.double)\n",
    "    loss_new = 0\n",
    "    for (i, x) in enumerate(representation2_training):\n",
    "        y = train_labels[i]\n",
    "        x = np.insert(x, 0, 1)\n",
    "        delCost += (-1*y*np.exp(-1*y*np.dot(w,x))*x/(1+np.exp(-1*y*np.dot(w,x))) + 2*lambda_reg*w)/len(representation2_training)\n",
    "        loss_new += (np.log(1 + np.exp(-1*y*np.dot(w,x))) + lambda_reg*np.linalg.norm(w)**2)/len(representation2_training)\n",
    "    w_new = w - eta*delCost\n",
    "    difference = np.abs(loss - loss_new)\n",
    "    #print(difference)\n",
    "    lossVector.append(loss_new)\n",
    "    w = w_new\n",
    "    loss = loss_new\n",
    "plt.plot(lossVector)\n",
    "print('Iteration: ',iteration)"
   ]
  },
  {
   "cell_type": "markdown",
   "metadata": {},
   "source": [
    "**(10 points)** Implement a 5-fold cross validation procedure to find the optimal $\\lambda$ value for both Representation 1 and 2. Experiment with at least three different $\\lambda$ values between 0 and 1. Report the mean/std of cross validation accuracy of every representation/parameter combination as a table and clearly mark the best configuration in your report. "
   ]
  },
  {
   "cell_type": "code",
   "execution_count": 296,
   "metadata": {},
   "outputs": [],
   "source": [
    "np.random.shuffle(representation2_training)\n",
    "dataChunks = []\n",
    "for crossValIndex in range(5):\n",
    "    dataChunks.append(representation2_training[int((len(representation2_training)/5))*crossValIndex:(int(len(representation2_training)/5))*(crossValIndex+1)])\n",
    "for crossValIndex in range(5):\n",
    "    data_tr = []\n",
    "    data_tst = []\n",
    "    for i in range(5):\n",
    "        if i != crossValIndex:\n",
    "            data_tr.extend(dataChunks[i])\n",
    "        else:\n",
    "            data_tst.extend(dataChunks[i])\n",
    "    "
   ]
  },
  {
   "cell_type": "markdown",
   "metadata": {},
   "source": [
    "## Task 3: Evaluation (25 Pts)"
   ]
  },
  {
   "cell_type": "markdown",
   "metadata": {},
   "source": [
    "**(5 points)** Train the logistic regression classifier on Representation 1 and 2 with the best learning rate you decide. Similarly, train the regularized logistic regression classifier with the best $\\lambda$ you obtained by 5-fold cross validation. Report the training and test classification accuracy as \n",
    "\\begin{align*}\n",
    "\\frac{\\text{number of correctly classified samples}}{\\text{total number of samples}}x100\n",
    "\\end{align*}"
   ]
  },
  {
   "cell_type": "code",
   "execution_count": null,
   "metadata": {},
   "outputs": [],
   "source": []
  },
  {
   "cell_type": "markdown",
   "metadata": {},
   "source": [
    "**(15 points)** Visualize the decision boundary (the line that is given by $\\mathbf{w}^{T}x=0$) obtained from the logistic regression classifier learned without regularization. For this purpose, use only Representation 1. Provide two scatter plots for training and test data points with the decision boundary shown on each of the plots."
   ]
  },
  {
   "cell_type": "code",
   "execution_count": null,
   "metadata": {},
   "outputs": [],
   "source": []
  },
  {
   "cell_type": "markdown",
   "metadata": {},
   "source": [
    "**(5 points)** Comment on your work in your report. Include the answers for the following questions in your discussion. \n",
    "\n",
    "* Did regularization improve the generalization performance (did it help reducing the gap between training and test accuracies/errors)? Did you observe any difference between using Representation 1 and 2?\n",
    "* Which feature set did give the best results? Which one is more discriminative?\n",
    "* What would be your next step to improve test accuracy? "
   ]
  }
 ],
 "metadata": {
  "kernelspec": {
   "display_name": "Python 3",
   "language": "python",
   "name": "python3"
  },
  "language_info": {
   "codemirror_mode": {
    "name": "ipython",
    "version": 3
   },
   "file_extension": ".py",
   "mimetype": "text/x-python",
   "name": "python",
   "nbconvert_exporter": "python",
   "pygments_lexer": "ipython3",
   "version": "3.7.6"
  }
 },
 "nbformat": 4,
 "nbformat_minor": 2
}
